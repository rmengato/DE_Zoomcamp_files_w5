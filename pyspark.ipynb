{
  "nbformat": 4,
  "nbformat_minor": 0,
  "metadata": {
    "colab": {
      "provenance": [],
      "authorship_tag": "ABX9TyMVGqQ6JvjKyYJIOB/6BFM2",
      "include_colab_link": true
    },
    "kernelspec": {
      "name": "python3",
      "display_name": "Python 3"
    },
    "language_info": {
      "name": "python"
    }
  },
  "cells": [
    {
      "cell_type": "markdown",
      "metadata": {
        "id": "view-in-github",
        "colab_type": "text"
      },
      "source": [
        "<a href=\"https://colab.research.google.com/github/rmengato/DE_Zoomcamp_files_w5/blob/main/pyspark.ipynb\" target=\"_parent\"><img src=\"https://colab.research.google.com/assets/colab-badge.svg\" alt=\"Open In Colab\"/></a>"
      ]
    },
    {
      "cell_type": "code",
      "execution_count": 35,
      "metadata": {
        "id": "GTYIn3hSjqqZ"
      },
      "outputs": [],
      "source": [
        "import pyspark\n",
        "from pyspark.sql import functions as F"
      ]
    },
    {
      "cell_type": "code",
      "source": [
        "from pyspark.sql import SparkSession\n",
        "\n",
        "spark = SparkSession.builder \\\n",
        "    .master(\"local[*]\") \\\n",
        "    .appName('test') \\\n",
        "    .getOrCreate()"
      ],
      "metadata": {
        "id": "73m-csC5kesz"
      },
      "execution_count": 36,
      "outputs": []
    },
    {
      "cell_type": "code",
      "source": [
        "spark.version"
      ],
      "metadata": {
        "colab": {
          "base_uri": "https://localhost:8080/",
          "height": 35
        },
        "id": "PjvdOvPvk7EE",
        "outputId": "5365d23b-260a-4b47-c6a5-e824e0808af5"
      },
      "execution_count": 37,
      "outputs": [
        {
          "output_type": "execute_result",
          "data": {
            "text/plain": [
              "'3.5.5'"
            ],
            "application/vnd.google.colaboratory.intrinsic+json": {
              "type": "string"
            }
          },
          "metadata": {},
          "execution_count": 37
        }
      ]
    },
    {
      "cell_type": "code",
      "source": [
        "!wget https://d37ci6vzurychx.cloudfront.net/trip-data/yellow_tripdata_2024-10.parquet"
      ],
      "metadata": {
        "colab": {
          "base_uri": "https://localhost:8080/"
        },
        "id": "beQeuukMNlTK",
        "outputId": "94653065-2fbc-4cf1-a450-516630f297a2"
      },
      "execution_count": 38,
      "outputs": [
        {
          "output_type": "stream",
          "name": "stdout",
          "text": [
            "--2025-03-06 21:44:58--  https://d37ci6vzurychx.cloudfront.net/trip-data/yellow_tripdata_2024-10.parquet\n",
            "Resolving d37ci6vzurychx.cloudfront.net (d37ci6vzurychx.cloudfront.net)... 13.226.36.218, 13.226.36.130, 13.226.36.73, ...\n",
            "Connecting to d37ci6vzurychx.cloudfront.net (d37ci6vzurychx.cloudfront.net)|13.226.36.218|:443... connected.\n",
            "HTTP request sent, awaiting response... 200 OK\n",
            "Length: 64346071 (61M) [binary/octet-stream]\n",
            "Saving to: ‘yellow_tripdata_2024-10.parquet.1’\n",
            "\n",
            "yellow_tripdata_202 100%[===================>]  61.36M  62.7MB/s    in 1.0s    \n",
            "\n",
            "2025-03-06 21:44:59 (62.7 MB/s) - ‘yellow_tripdata_2024-10.parquet.1’ saved [64346071/64346071]\n",
            "\n"
          ]
        }
      ]
    },
    {
      "cell_type": "code",
      "source": [
        "df = spark.read.parquet(\"/content/yellow_tripdata_2024-10.parquet\")"
      ],
      "metadata": {
        "id": "73_uG6xUN0IX"
      },
      "execution_count": 52,
      "outputs": []
    },
    {
      "cell_type": "code",
      "source": [
        "df.show()"
      ],
      "metadata": {
        "colab": {
          "base_uri": "https://localhost:8080/"
        },
        "id": "jCRIvtvEO-jx",
        "outputId": "8a9c3de6-74e8-43a3-c2ee-60cf827096e1"
      },
      "execution_count": 53,
      "outputs": [
        {
          "output_type": "stream",
          "name": "stdout",
          "text": [
            "+--------+--------------------+---------------------+---------------+-------------+----------+------------------+------------+------------+------------+-----------+-----+-------+----------+------------+---------------------+------------+--------------------+-----------+\n",
            "|VendorID|tpep_pickup_datetime|tpep_dropoff_datetime|passenger_count|trip_distance|RatecodeID|store_and_fwd_flag|PULocationID|DOLocationID|payment_type|fare_amount|extra|mta_tax|tip_amount|tolls_amount|improvement_surcharge|total_amount|congestion_surcharge|Airport_fee|\n",
            "+--------+--------------------+---------------------+---------------+-------------+----------+------------------+------------+------------+------------+-----------+-----+-------+----------+------------+---------------------+------------+--------------------+-----------+\n",
            "|       2| 2024-10-01 00:30:44|  2024-10-01 00:48:26|              1|          3.0|         1|                 N|         162|         246|           1|       18.4|  1.0|    0.5|       1.5|         0.0|                  1.0|        24.9|                 2.5|        0.0|\n",
            "|       1| 2024-10-01 00:12:20|  2024-10-01 00:25:25|              1|          2.2|         1|                 N|          48|         236|           1|       14.2|  3.5|    0.5|       3.8|         0.0|                  1.0|        23.0|                 2.5|        0.0|\n",
            "|       1| 2024-10-01 00:04:46|  2024-10-01 00:13:52|              1|          2.7|         1|                 N|         142|          24|           1|       13.5|  3.5|    0.5|       3.7|         0.0|                  1.0|        22.2|                 2.5|        0.0|\n",
            "|       1| 2024-10-01 00:12:10|  2024-10-01 00:23:01|              1|          3.1|         1|                 N|         233|          75|           1|       14.2|  3.5|    0.5|       2.0|         0.0|                  1.0|        21.2|                 2.5|        0.0|\n",
            "|       1| 2024-10-01 00:30:22|  2024-10-01 00:30:39|              1|          0.0|         1|                 N|         262|         262|           3|        3.0|  3.5|    0.5|       0.0|         0.0|                  1.0|         8.0|                 2.5|        0.0|\n",
            "|       2| 2024-10-01 00:31:20|  2024-10-01 00:36:00|              2|         0.97|         1|                 N|         137|         137|           1|        7.2|  1.0|    0.5|      2.44|         0.0|                  1.0|       14.64|                 2.5|        0.0|\n",
            "|       1| 2024-10-01 00:42:57|  2024-10-01 00:49:01|              1|          1.3|         1|                 N|         142|          48|           1|        7.9|  3.5|    0.5|      2.55|         0.0|                  1.0|       15.45|                 2.5|        0.0|\n",
            "|       1| 2024-10-01 00:59:55|  2024-10-01 01:02:24|              1|          0.5|         1|                 N|         230|         161|           1|        5.1|  3.5|    0.5|       2.0|         0.0|                  1.0|        12.1|                 2.5|        0.0|\n",
            "|       1| 2024-10-01 00:00:47|  2024-10-01 00:04:22|              0|          1.1|         1|                 N|         142|         237|           1|        7.2|  3.5|    0.5|       3.0|         0.0|                  1.0|        15.2|                 2.5|        0.0|\n",
            "|       1| 2024-10-01 00:17:36|  2024-10-01 00:26:22|              1|          2.2|         1|                 N|         162|         145|           1|       11.4|  3.5|    0.5|       3.3|         0.0|                  1.0|        19.7|                 2.5|        0.0|\n",
            "|       1| 2024-10-01 00:49:00|  2024-10-01 00:52:20|              1|          0.6|         1|                 N|         229|         162|           1|        5.1|  3.5|    0.5|       2.0|         0.0|                  1.0|        12.1|                 2.5|        0.0|\n",
            "|       2| 2024-10-01 00:07:26|  2024-10-01 00:13:20|              1|          0.9|         1|                 N|         162|         162|           1|        7.9|  1.0|    0.5|      3.87|         0.0|                  1.0|       16.77|                 2.5|        0.0|\n",
            "|       2| 2024-10-01 00:17:11|  2024-10-01 00:25:00|              1|         1.33|         1|                 N|         162|         230|           1|        9.3|  1.0|    0.5|       2.0|         0.0|                  1.0|        16.3|                 2.5|        0.0|\n",
            "|       2| 2024-10-01 00:00:34|  2024-10-01 00:05:13|              1|         1.79|         1|                 N|         211|         234|           1|        9.3|  1.0|    0.5|      2.86|         0.0|                  1.0|       17.16|                 2.5|        0.0|\n",
            "|       2| 2024-09-30 23:58:40|  2024-10-01 00:20:26|              1|         5.16|         1|                 N|         142|           7|           1|       24.7|  1.0|    0.5|       0.0|         0.0|                  1.0|        29.7|                 2.5|        0.0|\n",
            "|       1| 2024-10-01 00:55:29|  2024-10-01 01:42:35|              1|         11.3|        99|                 N|         161|         197|           1|       39.5|  0.0|    0.5|       0.0|        6.94|                  1.0|       47.94|                 0.0|        0.0|\n",
            "|       1| 2024-10-01 00:08:59|  2024-10-01 00:40:58|              1|         20.6|         1|                 N|         132|         243|           2|       76.5| 2.75|    0.5|       0.0|        6.94|                  1.0|       87.69|                 0.0|       1.75|\n",
            "|       2| 2024-10-01 00:18:38|  2024-10-01 00:36:47|              2|         7.42|         1|                 N|         239|         247|           4|      -33.1| -1.0|   -0.5|       0.0|         0.0|                 -1.0|       -38.1|                -2.5|        0.0|\n",
            "|       2| 2024-10-01 00:18:38|  2024-10-01 00:36:47|              2|         7.42|         1|                 N|         239|         247|           4|       33.1|  1.0|    0.5|       0.0|         0.0|                  1.0|        38.1|                 2.5|        0.0|\n",
            "|       2| 2024-10-01 00:39:33|  2024-10-01 00:53:59|              1|         4.49|         1|                 N|         247|          60|           2|       21.9|  1.0|    0.5|       0.0|         0.0|                  1.0|        24.4|                 0.0|        0.0|\n",
            "+--------+--------------------+---------------------+---------------+-------------+----------+------------------+------------+------------+------------+-----------+-----+-------+----------+------------+---------------------+------------+--------------------+-----------+\n",
            "only showing top 20 rows\n",
            "\n"
          ]
        }
      ]
    },
    {
      "cell_type": "code",
      "source": [
        "#verify data types\n",
        "df.schema"
      ],
      "metadata": {
        "colab": {
          "base_uri": "https://localhost:8080/"
        },
        "id": "ygg6p5CFRucH",
        "outputId": "8ad331e0-9e42-4a03-8700-2b78d83d58f2"
      },
      "execution_count": 54,
      "outputs": [
        {
          "output_type": "execute_result",
          "data": {
            "text/plain": [
              "StructType([StructField('VendorID', IntegerType(), True), StructField('tpep_pickup_datetime', TimestampNTZType(), True), StructField('tpep_dropoff_datetime', TimestampNTZType(), True), StructField('passenger_count', LongType(), True), StructField('trip_distance', DoubleType(), True), StructField('RatecodeID', LongType(), True), StructField('store_and_fwd_flag', StringType(), True), StructField('PULocationID', IntegerType(), True), StructField('DOLocationID', IntegerType(), True), StructField('payment_type', LongType(), True), StructField('fare_amount', DoubleType(), True), StructField('extra', DoubleType(), True), StructField('mta_tax', DoubleType(), True), StructField('tip_amount', DoubleType(), True), StructField('tolls_amount', DoubleType(), True), StructField('improvement_surcharge', DoubleType(), True), StructField('total_amount', DoubleType(), True), StructField('congestion_surcharge', DoubleType(), True), StructField('Airport_fee', DoubleType(), True)])"
            ]
          },
          "metadata": {},
          "execution_count": 54
        }
      ]
    },
    {
      "cell_type": "code",
      "source": [
        "#question about partition and file sizes\n",
        "df = df.repartition(4)"
      ],
      "metadata": {
        "id": "5ckQ9NzXS26T"
      },
      "execution_count": 55,
      "outputs": []
    },
    {
      "cell_type": "code",
      "source": [
        "#df.write.parquet(\"spark_oct_24_taxi_data\", mode = \"overwrite\")"
      ],
      "metadata": {
        "id": "-AmxqVQzTf3x"
      },
      "execution_count": 56,
      "outputs": []
    },
    {
      "cell_type": "code",
      "source": [
        "#!zip -r spark_oct_24_taxi_data.zip spark_oct_24_taxi_data/"
      ],
      "metadata": {
        "id": "TTHs3iXWUgW5"
      },
      "execution_count": 45,
      "outputs": []
    },
    {
      "cell_type": "code",
      "source": [
        "\"\"\"\n",
        "from google.colab import files\n",
        "files.download(\"spark_oct_24_taxi_data.zip\")\n",
        "\"\"\""
      ],
      "metadata": {
        "colab": {
          "base_uri": "https://localhost:8080/",
          "height": 35
        },
        "id": "vcbg3lQtUoHl",
        "outputId": "5cba4888-6943-4555-e4d3-42ae664c5ebc"
      },
      "execution_count": 46,
      "outputs": [
        {
          "output_type": "execute_result",
          "data": {
            "text/plain": [
              "'\\nfrom google.colab import files\\nfiles.download(\"spark_oct_24_taxi_data.zip\")\\n'"
            ],
            "application/vnd.google.colaboratory.intrinsic+json": {
              "type": "string"
            }
          },
          "metadata": {},
          "execution_count": 46
        }
      ]
    },
    {
      "cell_type": "code",
      "source": [
        "#how many trips started on oct 15?\n",
        "\n",
        "df = df.withColumn(\"pickup_date\", F.to_date(df.tpep_pickup_datetime))\\\n",
        "  .withColumn(\"dropoff_date\", F.to_date(df.tpep_dropoff_datetime))\n"
      ],
      "metadata": {
        "id": "UJKqoSy5V553"
      },
      "execution_count": 62,
      "outputs": []
    },
    {
      "cell_type": "code",
      "source": [
        "df.show()"
      ],
      "metadata": {
        "colab": {
          "base_uri": "https://localhost:8080/"
        },
        "id": "lcHbvoVdZNCo",
        "outputId": "bacc7209-06d5-4748-b3b6-cfc33cd59c6d"
      },
      "execution_count": 63,
      "outputs": [
        {
          "output_type": "stream",
          "name": "stdout",
          "text": [
            "+--------+--------------------+---------------------+---------------+-------------+----------+------------------+------------+------------+------------+-----------+-----+-------+----------+------------+---------------------+------------+--------------------+-----------+-----------+------------+\n",
            "|VendorID|tpep_pickup_datetime|tpep_dropoff_datetime|passenger_count|trip_distance|RatecodeID|store_and_fwd_flag|PULocationID|DOLocationID|payment_type|fare_amount|extra|mta_tax|tip_amount|tolls_amount|improvement_surcharge|total_amount|congestion_surcharge|Airport_fee|pickup_date|dropoff_date|\n",
            "+--------+--------------------+---------------------+---------------+-------------+----------+------------------+------------+------------+------------+-----------+-----+-------+----------+------------+---------------------+------------+--------------------+-----------+-----------+------------+\n",
            "|       2| 2024-10-04 23:19:27|  2024-10-04 23:43:28|              1|         6.07|         1|                 N|         229|         231|           1|       31.0|  1.0|    0.5|       4.0|         0.0|                  1.0|        40.0|                 2.5|        0.0| 2024-10-04|  2024-10-04|\n",
            "|       2| 2024-10-12 22:54:01|  2024-10-12 23:18:59|              1|        10.15|         1|                 N|         138|          25|           1|       41.5|  6.0|    0.5|       9.8|         0.0|                  1.0|       60.55|                 0.0|       1.75| 2024-10-12|  2024-10-12|\n",
            "|       2| 2024-10-12 17:07:34|  2024-10-12 17:19:01|              2|         4.34|         1|                 N|         132|         132|           4|       19.1|  0.0|    0.5|       0.0|         0.0|                  1.0|       22.35|                 0.0|       1.75| 2024-10-12|  2024-10-12|\n",
            "|       2| 2024-10-04 14:17:41|  2024-10-04 14:26:47|              1|          1.1|         1|                 N|         113|         211|           1|        9.3|  0.0|    0.5|      2.66|         0.0|                  1.0|       15.96|                 2.5|        0.0| 2024-10-04|  2024-10-04|\n",
            "|       2| 2024-10-14 16:35:10|  2024-10-14 16:51:20|              1|         1.27|         1|                 N|         170|          48|           1|       14.9|  0.0|    0.5|      1.75|         0.0|                  1.0|       20.65|                 2.5|        0.0| 2024-10-14|  2024-10-14|\n",
            "|       2| 2024-10-01 11:17:28|  2024-10-01 11:32:18|              1|         4.63|         1|                 N|         231|         170|           1|       21.9|  0.0|    0.5|      5.18|         0.0|                  1.0|       31.08|                 2.5|        0.0| 2024-10-01|  2024-10-01|\n",
            "|       2| 2024-10-17 17:41:20|  2024-10-17 17:58:23|              1|         1.21|         1|                 N|         141|         163|           1|       14.9|  2.5|    0.5|      4.28|         0.0|                  1.0|       25.68|                 2.5|        0.0| 2024-10-17|  2024-10-17|\n",
            "|       2| 2024-10-16 13:20:09|  2024-10-16 13:34:44|              1|         1.65|         1|                 N|         249|         158|           1|       14.2|  0.0|    0.5|      3.64|         0.0|                  1.0|       21.84|                 2.5|        0.0| 2024-10-16|  2024-10-16|\n",
            "|       2| 2024-10-04 19:13:00|  2024-10-04 19:35:18|              1|         5.42|         1|                 N|          48|         263|           1|       27.5|  2.5|    0.5|      3.74|         0.0|                  1.0|       37.74|                 2.5|        0.0| 2024-10-04|  2024-10-04|\n",
            "|       2| 2024-10-11 14:43:27|  2024-10-11 15:05:24|              3|          2.5|         1|                 N|         211|         230|           1|       19.8|  0.0|    0.5|      4.76|         0.0|                  1.0|       28.56|                 2.5|        0.0| 2024-10-11|  2024-10-11|\n",
            "|       2| 2024-10-11 10:56:37|  2024-10-11 11:30:22|              1|          7.1|         1|                 N|         237|          80|           1|       38.0|  0.0|    0.5|       5.0|         0.0|                  1.0|        47.0|                 2.5|        0.0| 2024-10-11|  2024-10-11|\n",
            "|       2| 2024-10-01 15:47:00|  2024-10-01 15:54:13|              1|         1.08|         1|                 N|         151|         239|           1|        9.3|  0.0|    0.5|      2.66|         0.0|                  1.0|       15.96|                 2.5|        0.0| 2024-10-01|  2024-10-01|\n",
            "|       2| 2024-10-18 08:54:26|  2024-10-18 09:14:07|              1|         2.16|         1|                 N|         161|         239|           1|       18.4|  0.0|    0.5|       2.0|         0.0|                  1.0|        24.4|                 2.5|        0.0| 2024-10-18|  2024-10-18|\n",
            "|       1| 2024-10-09 14:31:50|  2024-10-09 14:46:46|              1|          0.8|         1|                 N|         164|         170|           1|       12.8|  2.5|    0.5|      3.35|         0.0|                  1.0|       20.15|                 2.5|        0.0| 2024-10-09|  2024-10-09|\n",
            "|       2| 2024-10-02 07:40:58|  2024-10-02 07:56:22|              4|         2.59|         1|                 N|         162|         113|           1|       15.6|  0.0|    0.5|       0.0|         0.0|                  1.0|        19.6|                 2.5|        0.0| 2024-10-02|  2024-10-02|\n",
            "|       2| 2024-10-09 18:55:48|  2024-10-09 19:14:14|              1|         1.93|         1|                 N|          68|         211|           2|       16.3|  2.5|    0.5|       0.0|         0.0|                  1.0|        22.8|                 2.5|        0.0| 2024-10-09|  2024-10-09|\n",
            "|       2| 2024-10-19 19:23:25|  2024-10-19 19:50:54|              2|         2.58|         1|                 N|         231|         186|           1|       23.3|  0.0|    0.5|      5.46|         0.0|                  1.0|       32.76|                 2.5|        0.0| 2024-10-19|  2024-10-19|\n",
            "|       2| 2024-10-19 20:12:01|  2024-10-19 20:35:56|              1|         4.59|         1|                 N|         237|         112|           1|       26.1|  1.0|    0.5|       5.0|         0.0|                  1.0|        36.1|                 2.5|        0.0| 2024-10-19|  2024-10-19|\n",
            "|       1| 2024-10-15 21:09:51|  2024-10-15 21:17:05|              1|          1.0|         1|                 N|         113|         234|           1|        7.9|  3.5|    0.5|       2.0|         0.0|                  1.0|        14.9|                 2.5|        0.0| 2024-10-15|  2024-10-15|\n",
            "|       2| 2024-10-18 21:04:50|  2024-10-18 21:12:21|              1|         1.07|         1|                 N|         237|         229|           1|        9.3|  1.0|    0.5|       2.0|         0.0|                  1.0|        16.3|                 2.5|        0.0| 2024-10-18|  2024-10-18|\n",
            "+--------+--------------------+---------------------+---------------+-------------+----------+------------------+------------+------------+------------+-----------+-----+-------+----------+------------+---------------------+------------+--------------------+-----------+-----------+------------+\n",
            "only showing top 20 rows\n",
            "\n"
          ]
        }
      ]
    },
    {
      "cell_type": "code",
      "source": [
        "df.filter(df.pickup_date == \"2024-10-15\").count()"
      ],
      "metadata": {
        "colab": {
          "base_uri": "https://localhost:8080/"
        },
        "id": "KVC_yJIUaGfx",
        "outputId": "95926506-0cbd-42a3-ffce-4c4bcb13d300"
      },
      "execution_count": 65,
      "outputs": [
        {
          "output_type": "execute_result",
          "data": {
            "text/plain": [
              "128893"
            ]
          },
          "metadata": {},
          "execution_count": 65
        }
      ]
    },
    {
      "cell_type": "code",
      "source": [
        "#longest trip in the dataset in hours?\n",
        "\n",
        "df = df.withColumn(\"trip_duration\", df.tpep_dropoff_datetime - df.tpep_pickup_datetime)\n",
        "\n",
        "df.show()"
      ],
      "metadata": {
        "colab": {
          "base_uri": "https://localhost:8080/"
        },
        "id": "4cw1D06ycVlC",
        "outputId": "44e34cbd-f962-4ecb-8038-0714dc5f7a6d"
      },
      "execution_count": 75,
      "outputs": [
        {
          "output_type": "stream",
          "name": "stdout",
          "text": [
            "+--------+--------------------+---------------------+---------------+-------------+----------+------------------+------------+------------+------------+-----------+-----+-------+----------+------------+---------------------+------------+--------------------+-----------+-----------+------------+--------------------+\n",
            "|VendorID|tpep_pickup_datetime|tpep_dropoff_datetime|passenger_count|trip_distance|RatecodeID|store_and_fwd_flag|PULocationID|DOLocationID|payment_type|fare_amount|extra|mta_tax|tip_amount|tolls_amount|improvement_surcharge|total_amount|congestion_surcharge|Airport_fee|pickup_date|dropoff_date|       trip_duration|\n",
            "+--------+--------------------+---------------------+---------------+-------------+----------+------------------+------------+------------+------------+-----------+-----+-------+----------+------------+---------------------+------------+--------------------+-----------+-----------+------------+--------------------+\n",
            "|       2| 2024-10-04 23:19:27|  2024-10-04 23:43:28|              1|         6.07|         1|                 N|         229|         231|           1|       31.0|  1.0|    0.5|       4.0|         0.0|                  1.0|        40.0|                 2.5|        0.0| 2024-10-04|  2024-10-04|INTERVAL '0 00:24...|\n",
            "|       2| 2024-10-12 22:54:01|  2024-10-12 23:18:59|              1|        10.15|         1|                 N|         138|          25|           1|       41.5|  6.0|    0.5|       9.8|         0.0|                  1.0|       60.55|                 0.0|       1.75| 2024-10-12|  2024-10-12|INTERVAL '0 00:24...|\n",
            "|       2| 2024-10-12 17:07:34|  2024-10-12 17:19:01|              2|         4.34|         1|                 N|         132|         132|           4|       19.1|  0.0|    0.5|       0.0|         0.0|                  1.0|       22.35|                 0.0|       1.75| 2024-10-12|  2024-10-12|INTERVAL '0 00:11...|\n",
            "|       2| 2024-10-04 14:17:41|  2024-10-04 14:26:47|              1|          1.1|         1|                 N|         113|         211|           1|        9.3|  0.0|    0.5|      2.66|         0.0|                  1.0|       15.96|                 2.5|        0.0| 2024-10-04|  2024-10-04|INTERVAL '0 00:09...|\n",
            "|       2| 2024-10-14 16:35:10|  2024-10-14 16:51:20|              1|         1.27|         1|                 N|         170|          48|           1|       14.9|  0.0|    0.5|      1.75|         0.0|                  1.0|       20.65|                 2.5|        0.0| 2024-10-14|  2024-10-14|INTERVAL '0 00:16...|\n",
            "|       2| 2024-10-01 11:17:28|  2024-10-01 11:32:18|              1|         4.63|         1|                 N|         231|         170|           1|       21.9|  0.0|    0.5|      5.18|         0.0|                  1.0|       31.08|                 2.5|        0.0| 2024-10-01|  2024-10-01|INTERVAL '0 00:14...|\n",
            "|       2| 2024-10-17 17:41:20|  2024-10-17 17:58:23|              1|         1.21|         1|                 N|         141|         163|           1|       14.9|  2.5|    0.5|      4.28|         0.0|                  1.0|       25.68|                 2.5|        0.0| 2024-10-17|  2024-10-17|INTERVAL '0 00:17...|\n",
            "|       2| 2024-10-16 13:20:09|  2024-10-16 13:34:44|              1|         1.65|         1|                 N|         249|         158|           1|       14.2|  0.0|    0.5|      3.64|         0.0|                  1.0|       21.84|                 2.5|        0.0| 2024-10-16|  2024-10-16|INTERVAL '0 00:14...|\n",
            "|       2| 2024-10-04 19:13:00|  2024-10-04 19:35:18|              1|         5.42|         1|                 N|          48|         263|           1|       27.5|  2.5|    0.5|      3.74|         0.0|                  1.0|       37.74|                 2.5|        0.0| 2024-10-04|  2024-10-04|INTERVAL '0 00:22...|\n",
            "|       2| 2024-10-11 14:43:27|  2024-10-11 15:05:24|              3|          2.5|         1|                 N|         211|         230|           1|       19.8|  0.0|    0.5|      4.76|         0.0|                  1.0|       28.56|                 2.5|        0.0| 2024-10-11|  2024-10-11|INTERVAL '0 00:21...|\n",
            "|       2| 2024-10-11 10:56:37|  2024-10-11 11:30:22|              1|          7.1|         1|                 N|         237|          80|           1|       38.0|  0.0|    0.5|       5.0|         0.0|                  1.0|        47.0|                 2.5|        0.0| 2024-10-11|  2024-10-11|INTERVAL '0 00:33...|\n",
            "|       2| 2024-10-01 15:47:00|  2024-10-01 15:54:13|              1|         1.08|         1|                 N|         151|         239|           1|        9.3|  0.0|    0.5|      2.66|         0.0|                  1.0|       15.96|                 2.5|        0.0| 2024-10-01|  2024-10-01|INTERVAL '0 00:07...|\n",
            "|       2| 2024-10-18 08:54:26|  2024-10-18 09:14:07|              1|         2.16|         1|                 N|         161|         239|           1|       18.4|  0.0|    0.5|       2.0|         0.0|                  1.0|        24.4|                 2.5|        0.0| 2024-10-18|  2024-10-18|INTERVAL '0 00:19...|\n",
            "|       1| 2024-10-09 14:31:50|  2024-10-09 14:46:46|              1|          0.8|         1|                 N|         164|         170|           1|       12.8|  2.5|    0.5|      3.35|         0.0|                  1.0|       20.15|                 2.5|        0.0| 2024-10-09|  2024-10-09|INTERVAL '0 00:14...|\n",
            "|       2| 2024-10-02 07:40:58|  2024-10-02 07:56:22|              4|         2.59|         1|                 N|         162|         113|           1|       15.6|  0.0|    0.5|       0.0|         0.0|                  1.0|        19.6|                 2.5|        0.0| 2024-10-02|  2024-10-02|INTERVAL '0 00:15...|\n",
            "|       2| 2024-10-09 18:55:48|  2024-10-09 19:14:14|              1|         1.93|         1|                 N|          68|         211|           2|       16.3|  2.5|    0.5|       0.0|         0.0|                  1.0|        22.8|                 2.5|        0.0| 2024-10-09|  2024-10-09|INTERVAL '0 00:18...|\n",
            "|       2| 2024-10-19 19:23:25|  2024-10-19 19:50:54|              2|         2.58|         1|                 N|         231|         186|           1|       23.3|  0.0|    0.5|      5.46|         0.0|                  1.0|       32.76|                 2.5|        0.0| 2024-10-19|  2024-10-19|INTERVAL '0 00:27...|\n",
            "|       2| 2024-10-19 20:12:01|  2024-10-19 20:35:56|              1|         4.59|         1|                 N|         237|         112|           1|       26.1|  1.0|    0.5|       5.0|         0.0|                  1.0|        36.1|                 2.5|        0.0| 2024-10-19|  2024-10-19|INTERVAL '0 00:23...|\n",
            "|       1| 2024-10-15 21:09:51|  2024-10-15 21:17:05|              1|          1.0|         1|                 N|         113|         234|           1|        7.9|  3.5|    0.5|       2.0|         0.0|                  1.0|        14.9|                 2.5|        0.0| 2024-10-15|  2024-10-15|INTERVAL '0 00:07...|\n",
            "|       2| 2024-10-18 21:04:50|  2024-10-18 21:12:21|              1|         1.07|         1|                 N|         237|         229|           1|        9.3|  1.0|    0.5|       2.0|         0.0|                  1.0|        16.3|                 2.5|        0.0| 2024-10-18|  2024-10-18|INTERVAL '0 00:07...|\n",
            "+--------+--------------------+---------------------+---------------+-------------+----------+------------------+------------+------------+------------+-----------+-----+-------+----------+------------+---------------------+------------+--------------------+-----------+-----------+------------+--------------------+\n",
            "only showing top 20 rows\n",
            "\n"
          ]
        }
      ]
    },
    {
      "cell_type": "code",
      "source": [
        "df = df.withColumn(\n",
        "    \"duration_hours\",\n",
        "    F.expr(\"extract(DAY from trip_duration) * 24 + extract(HOUR from trip_duration) + extract(MINUTE from trip_duration) / 60\")\n",
        ")"
      ],
      "metadata": {
        "id": "t4wlseVffrC8"
      },
      "execution_count": 77,
      "outputs": []
    },
    {
      "cell_type": "code",
      "source": [
        "df.select(F.max(\"duration_hours\")).show()"
      ],
      "metadata": {
        "colab": {
          "base_uri": "https://localhost:8080/"
        },
        "id": "F7Ix7GI2eWdg",
        "outputId": "a6a95230-e061-4b80-ac06-394f7ee34209"
      },
      "execution_count": 78,
      "outputs": [
        {
          "output_type": "stream",
          "name": "stdout",
          "text": [
            "+-------------------+\n",
            "|max(duration_hours)|\n",
            "+-------------------+\n",
            "| 162.61666666666667|\n",
            "+-------------------+\n",
            "\n"
          ]
        }
      ]
    },
    {
      "cell_type": "code",
      "source": [
        "#Load zone and find least frequent pickup location\n",
        "\n",
        "!wget https://d37ci6vzurychx.cloudfront.net/misc/taxi_zone_lookup.csv"
      ],
      "metadata": {
        "colab": {
          "base_uri": "https://localhost:8080/"
        },
        "id": "JQeaFb85gMjQ",
        "outputId": "5712ef18-d743-47c9-eaf7-ed4b1cfb78f1"
      },
      "execution_count": 79,
      "outputs": [
        {
          "output_type": "stream",
          "name": "stdout",
          "text": [
            "--2025-03-06 22:09:43--  https://d37ci6vzurychx.cloudfront.net/misc/taxi_zone_lookup.csv\n",
            "Resolving d37ci6vzurychx.cloudfront.net (d37ci6vzurychx.cloudfront.net)... 13.226.36.218, 13.226.36.130, 13.226.36.73, ...\n",
            "Connecting to d37ci6vzurychx.cloudfront.net (d37ci6vzurychx.cloudfront.net)|13.226.36.218|:443... connected.\n",
            "HTTP request sent, awaiting response... 200 OK\n",
            "Length: 12331 (12K) [text/csv]\n",
            "Saving to: ‘taxi_zone_lookup.csv’\n",
            "\n",
            "\rtaxi_zone_lookup.cs   0%[                    ]       0  --.-KB/s               \rtaxi_zone_lookup.cs 100%[===================>]  12.04K  --.-KB/s    in 0.002s  \n",
            "\n",
            "2025-03-06 22:09:43 (6.99 MB/s) - ‘taxi_zone_lookup.csv’ saved [12331/12331]\n",
            "\n"
          ]
        }
      ]
    },
    {
      "cell_type": "code",
      "source": [
        "df_zones = spark.read.option(\"header\",True)\\\n",
        "  .option(\"inferSchema\",True) \\\n",
        "  .csv(\"/content/taxi_zone_lookup.csv\")"
      ],
      "metadata": {
        "id": "OQtk1wXFgfSP"
      },
      "execution_count": 82,
      "outputs": []
    },
    {
      "cell_type": "code",
      "source": [
        "df_zones.show()"
      ],
      "metadata": {
        "colab": {
          "base_uri": "https://localhost:8080/"
        },
        "id": "LL_S9-ZYhUnM",
        "outputId": "d8bdde51-d070-4bd9-da7b-43d2807ec828"
      },
      "execution_count": 83,
      "outputs": [
        {
          "output_type": "stream",
          "name": "stdout",
          "text": [
            "+----------+-------------+--------------------+------------+\n",
            "|LocationID|      Borough|                Zone|service_zone|\n",
            "+----------+-------------+--------------------+------------+\n",
            "|         1|          EWR|      Newark Airport|         EWR|\n",
            "|         2|       Queens|         Jamaica Bay|   Boro Zone|\n",
            "|         3|        Bronx|Allerton/Pelham G...|   Boro Zone|\n",
            "|         4|    Manhattan|       Alphabet City| Yellow Zone|\n",
            "|         5|Staten Island|       Arden Heights|   Boro Zone|\n",
            "|         6|Staten Island|Arrochar/Fort Wad...|   Boro Zone|\n",
            "|         7|       Queens|             Astoria|   Boro Zone|\n",
            "|         8|       Queens|        Astoria Park|   Boro Zone|\n",
            "|         9|       Queens|          Auburndale|   Boro Zone|\n",
            "|        10|       Queens|        Baisley Park|   Boro Zone|\n",
            "|        11|     Brooklyn|          Bath Beach|   Boro Zone|\n",
            "|        12|    Manhattan|        Battery Park| Yellow Zone|\n",
            "|        13|    Manhattan|   Battery Park City| Yellow Zone|\n",
            "|        14|     Brooklyn|           Bay Ridge|   Boro Zone|\n",
            "|        15|       Queens|Bay Terrace/Fort ...|   Boro Zone|\n",
            "|        16|       Queens|             Bayside|   Boro Zone|\n",
            "|        17|     Brooklyn|             Bedford|   Boro Zone|\n",
            "|        18|        Bronx|        Bedford Park|   Boro Zone|\n",
            "|        19|       Queens|           Bellerose|   Boro Zone|\n",
            "|        20|        Bronx|             Belmont|   Boro Zone|\n",
            "+----------+-------------+--------------------+------------+\n",
            "only showing top 20 rows\n",
            "\n"
          ]
        }
      ]
    },
    {
      "cell_type": "code",
      "source": [
        "df = df.join(df_zones,df.PULocationID ==  df_zones.LocationID,\"leftouter\")"
      ],
      "metadata": {
        "id": "w893ASiyixLA"
      },
      "execution_count": 85,
      "outputs": []
    },
    {
      "cell_type": "code",
      "source": [
        "df.groupBy(\"Zone\").count().sort(\"count\", ascending = True).show()"
      ],
      "metadata": {
        "colab": {
          "base_uri": "https://localhost:8080/"
        },
        "id": "obGpWuDEjelu",
        "outputId": "b26dd5db-dddd-4289-862a-2ec6600bd040"
      },
      "execution_count": 90,
      "outputs": [
        {
          "output_type": "stream",
          "name": "stdout",
          "text": [
            "+--------------------+-----+\n",
            "|                Zone|count|\n",
            "+--------------------+-----+\n",
            "|Governor's Island...|    1|\n",
            "|       Rikers Island|    2|\n",
            "|       Arden Heights|    2|\n",
            "| Green-Wood Cemetery|    3|\n",
            "|         Jamaica Bay|    3|\n",
            "|Charleston/Totten...|    4|\n",
            "|   Rossville/Woodrow|    4|\n",
            "|       West Brighton|    4|\n",
            "|       Port Richmond|    4|\n",
            "|Eltingville/Annad...|    4|\n",
            "|         Great Kills|    6|\n",
            "|        Crotona Park|    6|\n",
            "|Heartland Village...|    7|\n",
            "|     Mariners Harbor|    7|\n",
            "|Saint George/New ...|    9|\n",
            "|             Oakwood|    9|\n",
            "|       Broad Channel|   10|\n",
            "|New Dorp/Midland ...|   10|\n",
            "|         Westerleigh|   12|\n",
            "|     Pelham Bay Park|   12|\n",
            "+--------------------+-----+\n",
            "only showing top 20 rows\n",
            "\n"
          ]
        }
      ]
    }
  ]
}